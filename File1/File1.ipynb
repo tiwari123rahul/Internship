{
 "cells": [
  {
   "cell_type": "code",
   "execution_count": 2,
   "id": "98422cfb",
   "metadata": {},
   "outputs": [
    {
     "name": "stdout",
     "output_type": "stream",
     "text": [
      "15\n"
     ]
    }
   ],
   "source": [
    "#Question 1\n",
    "def func(a,b):\n",
    "    return b if a == 0 else func(b % a,a)\n",
    "print(func(30, 75))"
   ]
  },
  {
   "cell_type": "markdown",
   "id": "b675ecec",
   "metadata": {},
   "source": [
    "Correct option is c (15) of question 1"
   ]
  },
  {
   "cell_type": "code",
   "execution_count": 3,
   "id": "b0209ef1",
   "metadata": {},
   "outputs": [
    {
     "name": "stdout",
     "output_type": "stream",
     "text": [
      "<class 'filter'>\n"
     ]
    }
   ],
   "source": [
    "# Question 2\n",
    "\n",
    "numbers = (4,7,19,2,89,45,72,22)\n",
    "\n",
    "sorted_numbers = sorted(numbers)\n",
    "\n",
    "even = lambda a: a % 2 == 0\n",
    "\n",
    "even_numbers = filter(even,sorted_numbers)\n",
    "\n",
    "print(type(even_numbers))"
   ]
  },
  {
   "cell_type": "markdown",
   "id": "bc39f878",
   "metadata": {},
   "source": [
    "correct option is B (filter) of question 2"
   ]
  },
  {
   "cell_type": "code",
   "execution_count": 5,
   "id": "5452c525",
   "metadata": {},
   "outputs": [
    {
     "name": "stdout",
     "output_type": "stream",
     "text": [
      "<class 'tuple'>\n"
     ]
    }
   ],
   "source": [
    "# Question 3\n",
    "\n",
    "# What datatypes are the *args stored, when passed into \n",
    "\n",
    "# Solution is (Tuple)\n",
    "\n",
    "# lets see example\n",
    "\n",
    "def example_function(*args):\n",
    "    print(type(args))\n",
    "    \n",
    "example_function(1,2,3,4,5,6,7)"
   ]
  },
  {
   "cell_type": "code",
   "execution_count": 6,
   "id": "79af6a12",
   "metadata": {},
   "outputs": [
    {
     "ename": "TypeError",
     "evalue": "unsupported operand type(s) for +: 'set' and 'set'",
     "output_type": "error",
     "traceback": [
      "\u001b[1;31m---------------------------------------------------------------------------\u001b[0m",
      "\u001b[1;31mTypeError\u001b[0m                                 Traceback (most recent call last)",
      "Cell \u001b[1;32mIn[6], line 7\u001b[0m\n\u001b[0;32m      4\u001b[0m set2 \u001b[38;5;241m=\u001b[39m {\u001b[38;5;241m82\u001b[39m,\u001b[38;5;241m49\u001b[39m,\u001b[38;5;241m62\u001b[39m}\n\u001b[0;32m      5\u001b[0m set3 \u001b[38;5;241m=\u001b[39m {\u001b[38;5;241m99\u001b[39m,\u001b[38;5;241m22\u001b[39m,\u001b[38;5;241m17\u001b[39m}\n\u001b[1;32m----> 7\u001b[0m \u001b[38;5;28mprint\u001b[39m(\u001b[38;5;28mlen\u001b[39m(set1 \u001b[38;5;241m+\u001b[39m set2 \u001b[38;5;241m+\u001b[39m set3))\n",
      "\u001b[1;31mTypeError\u001b[0m: unsupported operand type(s) for +: 'set' and 'set'"
     ]
    }
   ],
   "source": [
    "# Question 4\n",
    "\n",
    "set1 = {14,3,55}\n",
    "set2 = {82,49,62}\n",
    "set3 = {99,22,17}\n",
    "\n",
    "print(len(set1 + set2 + set3))"
   ]
  },
  {
   "cell_type": "markdown",
   "id": "31202f7c",
   "metadata": {},
   "source": [
    "Solution is option D (Error) in this case not using + sign if we are required combind len then use this this function"
   ]
  },
  {
   "cell_type": "code",
   "execution_count": 7,
   "id": "dcdd58c6",
   "metadata": {},
   "outputs": [
    {
     "name": "stdout",
     "output_type": "stream",
     "text": [
      "9\n"
     ]
    }
   ],
   "source": [
    "set1 = {14,3,55}\n",
    "set2 = {82,49,62}\n",
    "set3 = {99,22,17}\n",
    "\n",
    "combined_set = set1 | set2 | set3\n",
    "\n",
    "print(len(combined_set))"
   ]
  },
  {
   "cell_type": "code",
   "execution_count": 10,
   "id": "088b99dc",
   "metadata": {},
   "outputs": [],
   "source": [
    "# Question 5\n",
    "# What keyword is used in Python to raise exceptions?\n",
    "\n",
    "# solution option A (raise)\n",
    "\n",
    "# raise ExcepetionClass(\"Error massage\")"
   ]
  },
  {
   "cell_type": "code",
   "execution_count": 11,
   "id": "d50b5a68",
   "metadata": {},
   "outputs": [],
   "source": [
    "# Question 6\n",
    "# Which of the following modules need to be imported to handle date time computations in Python?\n",
    "\n",
    "# Solution option c (datetime)\n",
    "import datetime"
   ]
  },
  {
   "cell_type": "code",
   "execution_count": 12,
   "id": "09891632",
   "metadata": {},
   "outputs": [
    {
     "name": "stdout",
     "output_type": "stream",
     "text": [
      "208\n"
     ]
    }
   ],
   "source": [
    "# Question 7 \n",
    "\n",
    "print(4**3 + (7+5)**(1+1))"
   ]
  },
  {
   "cell_type": "code",
   "execution_count": 13,
   "id": "75eb77d8",
   "metadata": {},
   "outputs": [],
   "source": [
    "# Solution correct otption c (208)"
   ]
  },
  {
   "cell_type": "code",
   "execution_count": 14,
   "id": "6fadf441",
   "metadata": {},
   "outputs": [],
   "source": [
    "# Question 8\n",
    "# Which of the following functions converts date to corresponding time in Python?\n",
    "\n",
    "# Solution correct option is D (None)\n",
    "# Because strptime (Function is used to parse a string representing a according to a specified format)\n",
    "# srtftime (Function is used to format a time object into a string representation according to a specified format)"
   ]
  },
  {
   "cell_type": "code",
   "execution_count": 15,
   "id": "af848aac",
   "metadata": {},
   "outputs": [],
   "source": [
    "# Question 9\n",
    "# The python tuple is _____ in nature.\n",
    "\n",
    "# solution correct option is B (immutable)\n",
    "# A pyton tuple is immutable,it is meaning once it is created, its elements cannot be changed or modified. Tuple elements can't be added, removed, or modified after creation. "
   ]
  },
  {
   "cell_type": "code",
   "execution_count": 16,
   "id": "1c0a9140",
   "metadata": {},
   "outputs": [],
   "source": [
    "# Question 10 \n",
    "# The ___ is a built-in function that returns a range object that consists series of integer numbers, which we can iterate using a for loop.\n",
    "# Solution correct option is A [range()] function"
   ]
  },
  {
   "cell_type": "code",
   "execution_count": 1,
   "id": "1ea66d7b",
   "metadata": {},
   "outputs": [],
   "source": [
    "# Question 11\n",
    "# Amongst which of the following is a function which does not have any name?\n",
    "\n",
    "# Solution correct option C (Lambda function)\n",
    "\n",
    "\n",
    "# Question 12\n",
    "# The module Pickle is used to ___.\n",
    "\n",
    "# Solution is corret option is C (Both A and B)\n",
    "\n",
    "# 'Pickle' module is used in Serializing and De-serializing"
   ]
  },
  {
   "cell_type": "code",
   "execution_count": 2,
   "id": "ebc86498",
   "metadata": {},
   "outputs": [],
   "source": [
    "# Question 13\n",
    "\n",
    "# Amongst which of the following is / are the method of convert Python objects for writing data in a binary file?\n",
    "\n",
    "# Solution is correct option is B (dump()method) this method is used to converted python objects into a binary format and write them to a file. "
   ]
  },
  {
   "cell_type": "code",
   "execution_count": 3,
   "id": "5e79fd09",
   "metadata": {},
   "outputs": [],
   "source": [
    "# Question 14\n",
    "\n",
    "# Amongst which of the following is / are the method used to unpickling data from a binary file?\n",
    "\n",
    "# Solution is correct option is A [load() method]\n",
    "# In python 'load()' method is used to unpickle data from a binary file."
   ]
  },
  {
   "cell_type": "code",
   "execution_count": 4,
   "id": "136ccfc8",
   "metadata": {},
   "outputs": [],
   "source": [
    "# Question 15\n",
    "\n",
    "# A text file can contain a combination of alphabets, numbers, and special symbols. So, the correct option is:\n",
    "\n",
    "# Solution is correct option D (All of the mentioned above)\n",
    "\n",
    "# textual information in text file we can include Alphabets, Numbers and special symbols."
   ]
  },
  {
   "cell_type": "code",
   "execution_count": 9,
   "id": "1fe03630",
   "metadata": {},
   "outputs": [],
   "source": [
    "# Question 16\n",
    "# Which Python code could replace the ellipsis (...) below to get the following output? (Select all that apply.)\n",
    "\n",
    "captains = {\n",
    "    \"Enterprise\":\"Picard\",\n",
    "    \"Voyagre\":\"Janeway\",\n",
    "    \"Defiant\":\"Sisko\",\n",
    "}"
   ]
  },
  {
   "cell_type": "code",
   "execution_count": 10,
   "id": "8e07c201",
   "metadata": {},
   "outputs": [
    {
     "name": "stdout",
     "output_type": "stream",
     "text": [
      "Enterprise Picard\n",
      "Voyagre Janeway\n",
      "Defiant Sisko\n"
     ]
    }
   ],
   "source": [
    "for ship, captain in captains.items():\n",
    "    print(ship, captain)"
   ]
  },
  {
   "cell_type": "code",
   "execution_count": 11,
   "id": "70de3f65",
   "metadata": {},
   "outputs": [
    {
     "name": "stdout",
     "output_type": "stream",
     "text": [
      "Enterprise Picard\n",
      "Voyagre Janeway\n",
      "Defiant Sisko\n"
     ]
    }
   ],
   "source": [
    "for ship in captains:\n",
    "    print(ship, captains[ship])"
   ]
  },
  {
   "cell_type": "code",
   "execution_count": 12,
   "id": "d5da2493",
   "metadata": {},
   "outputs": [
    {
     "name": "stdout",
     "output_type": "stream",
     "text": [
      "Enterprise {'Enterprise': 'Picard', 'Voyagre': 'Janeway', 'Defiant': 'Sisko'}\n",
      "Voyagre {'Enterprise': 'Picard', 'Voyagre': 'Janeway', 'Defiant': 'Sisko'}\n",
      "Defiant {'Enterprise': 'Picard', 'Voyagre': 'Janeway', 'Defiant': 'Sisko'}\n"
     ]
    }
   ],
   "source": [
    "for ship in captains:\n",
    "    print(ship, captains)"
   ]
  },
  {
   "cell_type": "code",
   "execution_count": 13,
   "id": "83ee191d",
   "metadata": {},
   "outputs": [],
   "source": [
    "# Solution is correct option is D (Both A and B) "
   ]
  },
  {
   "cell_type": "code",
   "execution_count": 14,
   "id": "e0c86c20",
   "metadata": {},
   "outputs": [],
   "source": [
    "# Question 17\n",
    "# Which of the following lines of code will create an empty dictionary named captains?"
   ]
  },
  {
   "cell_type": "code",
   "execution_count": 21,
   "id": "a130ea84",
   "metadata": {},
   "outputs": [],
   "source": [
    "captains={}"
   ]
  },
  {
   "cell_type": "code",
   "execution_count": 22,
   "id": "a382c9da",
   "metadata": {},
   "outputs": [
    {
     "data": {
      "text/plain": [
       "{}"
      ]
     },
     "execution_count": 22,
     "metadata": {},
     "output_type": "execute_result"
    }
   ],
   "source": [
    "captains"
   ]
  },
  {
   "cell_type": "code",
   "execution_count": 23,
   "id": "69303598",
   "metadata": {},
   "outputs": [],
   "source": [
    "# Solution correct option is D [captains={}] this is empty dictionary "
   ]
  },
  {
   "cell_type": "code",
   "execution_count": 28,
   "id": "0e0ea724",
   "metadata": {},
   "outputs": [],
   "source": [
    "# Question 18\n",
    "# Now you have your empty dictionary named captains. It’s time to add some data!\n",
    "# Specifically, you want to add the key-value pairs \"Enterprise\": \"Picard\", \"Voyager\": \"Janeway\", and \"Defiant\": \"Sisko\".\n",
    "# Which of the following code snippets will successfully add these key-value pairs to the existing captains dictionary?\n",
    "\n",
    "# Solution is correct option B\n",
    "\n",
    "captains[\"Enterprise\"] = \"Picard\"\n",
    "captains[\"Voyager\"] = \"Janeway\"\n",
    "captains[\"Defiant\"] = \"Sisko\""
   ]
  },
  {
   "cell_type": "code",
   "execution_count": 33,
   "id": "3082c396",
   "metadata": {},
   "outputs": [
    {
     "name": "stdout",
     "output_type": "stream",
     "text": [
      "The Enterprise is captained by Picard.\n",
      "The Voyager is captained by Janeway.\n",
      "The Defiant is captained by Sisko.\n",
      "The Discovery is captained by unknown.\n"
     ]
    }
   ],
   "source": [
    "# Question 19\n",
    "\n",
    "captains = {\n",
    "    \"Enterprise\": \"Picard\",\n",
    "    \"Voyager\": \"Janeway\",\n",
    "    \"Defiant\": \"Sisko\",\n",
    "    \"Discovery\": \"unknown\",\n",
    "}\n",
    "\n",
    "for ship, captain in captains.items():\n",
    "    print(f\"The {ship} is captained by {captain}.\")"
   ]
  },
  {
   "cell_type": "code",
   "execution_count": 34,
   "id": "5687e1c4",
   "metadata": {},
   "outputs": [],
   "source": [
    "# Solution is option is correct is B"
   ]
  },
  {
   "cell_type": "code",
   "execution_count": 39,
   "id": "1ff33047",
   "metadata": {},
   "outputs": [],
   "source": [
    "# Question 20 \n",
    "# You’ve created a dictionary, added data, checked for the existence of keys, and iterated over it with a for loop. Now you’re ready to delete a key from this dictionary:\n",
    "captains = {\n",
    "    \"Enterprise\": \"Picard\",\n",
    "    \"Voyager\": \"Janeway\",\n",
    "    \"Defiant\": \"Sisko\",\n",
    "    \"Discovery\": \"unknown\",\n",
    "}"
   ]
  },
  {
   "cell_type": "code",
   "execution_count": 40,
   "id": "77646c49",
   "metadata": {},
   "outputs": [],
   "source": [
    "del captains[\"Discovery\"]"
   ]
  },
  {
   "cell_type": "code",
   "execution_count": 41,
   "id": "26b72f2f",
   "metadata": {},
   "outputs": [],
   "source": [
    "# Solution is correct option is C"
   ]
  },
  {
   "cell_type": "code",
   "execution_count": null,
   "id": "b109a053",
   "metadata": {},
   "outputs": [],
   "source": []
  }
 ],
 "metadata": {
  "kernelspec": {
   "display_name": "Python 3 (ipykernel)",
   "language": "python",
   "name": "python3"
  },
  "language_info": {
   "codemirror_mode": {
    "name": "ipython",
    "version": 3
   },
   "file_extension": ".py",
   "mimetype": "text/x-python",
   "name": "python",
   "nbconvert_exporter": "python",
   "pygments_lexer": "ipython3",
   "version": "3.11.5"
  }
 },
 "nbformat": 4,
 "nbformat_minor": 5
}
