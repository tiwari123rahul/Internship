{
 "cells": [
  {
   "cell_type": "code",
   "execution_count": 1,
   "id": "a7ce3a6f",
   "metadata": {},
   "outputs": [],
   "source": [
    "# Question 1: Write a RegEx pattern in python program to check that a string contains only a certain set of characters (in this case a-z, A-Z and 0-9)."
   ]
  },
  {
   "cell_type": "code",
   "execution_count": 2,
   "id": "ffd57476",
   "metadata": {},
   "outputs": [
    {
     "name": "stdout",
     "output_type": "stream",
     "text": [
      "True\n",
      "False\n"
     ]
    }
   ],
   "source": [
    "# Solution\n",
    "\n",
    "import re\n",
    "\n",
    "def check_string(input_string):\n",
    "    pattern = re.compile(r'^[a-zA-Z0-9]+$')\n",
    "    return pattern.match(input_string) is not None\n",
    "\n",
    "\n",
    "print(check_string(\"Hello123\")) #True\n",
    "print(check_string(\"Hello123!\")) #False"
   ]
  },
  {
   "cell_type": "code",
   "execution_count": 3,
   "id": "805afc01",
   "metadata": {},
   "outputs": [
    {
     "name": "stdout",
     "output_type": "stream",
     "text": [
      "True\n",
      "False\n"
     ]
    }
   ],
   "source": [
    "# Another way can be write \n",
    "\n",
    "import re\n",
    "\n",
    "def is_allowed_specific_char(string):\n",
    "    charRe = re.compile(r'[^a-zA-Z0-9]')\n",
    "    string = charRe.search(string)\n",
    "    return not bool(string)\n",
    "\n",
    "print(is_allowed_specific_char(\"ABCDabcd123490\"))\n",
    "print(is_allowed_specific_char(\"#$@%!}{\"))"
   ]
  },
  {
   "cell_type": "code",
   "execution_count": 4,
   "id": "0806588d",
   "metadata": {},
   "outputs": [],
   "source": [
    "# Question 2: Write a RegEx pattern that matches a string that has an a followed by zero or more b's"
   ]
  },
  {
   "cell_type": "code",
   "execution_count": 5,
   "id": "bc018d75",
   "metadata": {},
   "outputs": [
    {
     "name": "stdout",
     "output_type": "stream",
     "text": [
      "Not matched!\n",
      "Not matched!\n",
      "Found a match!\n",
      "Found a match!\n",
      "Found a match!\n"
     ]
    }
   ],
   "source": [
    "# Solution\n",
    "\n",
    "import re\n",
    "def text_match(text):\n",
    "        patterns = '^a(b*)$'\n",
    "        if re.search(patterns,  text):\n",
    "                return 'Found a match!'\n",
    "        else:\n",
    "                return('Not matched!')\n",
    "print(text_match(\"ac\"))\n",
    "print(text_match(\"abc\"))\n",
    "print(text_match(\"a\"))\n",
    "print(text_match(\"ab\"))\n",
    "print(text_match(\"abb\"))"
   ]
  },
  {
   "cell_type": "code",
   "execution_count": 6,
   "id": "16b76934",
   "metadata": {},
   "outputs": [
    {
     "name": "stdout",
     "output_type": "stream",
     "text": [
      "Not matched!\n",
      "Not matched!\n",
      "Not matched!\n",
      "Not matched!\n",
      "Not matched!\n"
     ]
    }
   ],
   "source": [
    "import re\n",
    "\n",
    "def text_match(text):\n",
    "    pattern = '^a(b*)$'\n",
    "    if re.search(pattern, text):\n",
    "        return 'Found a match!'\n",
    "    else:\n",
    "        return 'Not matched!'\n",
    "\n",
    "print(text_match(\"ac\"))\n",
    "print(text_match(\"abc\"))\n",
    "print(text_match(\"abbc\"))\n",
    "print(text_match(\"abccd\"))\n",
    "print(text_match(\"abhf1234%\"))"
   ]
  },
  {
   "cell_type": "code",
   "execution_count": 8,
   "id": "3c9fe32e",
   "metadata": {},
   "outputs": [],
   "source": [
    "#Question 3: Write a RegEx pattern that matches a string that has an 'a' followed by one or more b's"
   ]
  },
  {
   "cell_type": "code",
   "execution_count": 9,
   "id": "79891a30",
   "metadata": {},
   "outputs": [
    {
     "name": "stdout",
     "output_type": "stream",
     "text": [
      "True\n",
      "True\n",
      "True\n",
      "True\n",
      "False\n",
      "False\n"
     ]
    }
   ],
   "source": [
    "# Solution\n",
    "\n",
    "def match_pattern(input_string):\n",
    "    pattern = re.compile(r'ab+')\n",
    "    return pattern.match(input_string) is not None\n",
    "\n",
    "print(match_pattern(\"ab\"))\n",
    "print(match_pattern(\"abb\"))\n",
    "print(match_pattern(\"abcd\"))\n",
    "print(match_pattern(\"abbb\"))\n",
    "print(match_pattern(\"a\"))\n",
    "print(match_pattern(\"ac\"))"
   ]
  },
  {
   "cell_type": "code",
   "execution_count": 10,
   "id": "0f781978",
   "metadata": {},
   "outputs": [],
   "source": [
    "#Question 4: Write a RegEx pattern that matches a string that has an 'a' followed by zero or one 'b'."
   ]
  },
  {
   "cell_type": "code",
   "execution_count": 20,
   "id": "eb4955de",
   "metadata": {},
   "outputs": [
    {
     "name": "stdout",
     "output_type": "stream",
     "text": [
      "True\n",
      "True\n",
      "True\n",
      "True\n",
      "True\n",
      "False\n"
     ]
    }
   ],
   "source": [
    "#Solution\n",
    "\n",
    "def match_pattern(input_string):\n",
    "    pattern = re.compile(r'ab?')\n",
    "    return pattern.match(input_string) is not None\n",
    "\n",
    "print(match_pattern(\"a\"))\n",
    "print(match_pattern(\"ab\"))\n",
    "print(match_pattern(\"ac\"))\n",
    "print(match_pattern(\"abb\"))\n",
    "print(match_pattern(\"abbc\"))\n",
    "print(match_pattern(\"bac\"))"
   ]
  },
  {
   "cell_type": "code",
   "execution_count": 21,
   "id": "5765893e",
   "metadata": {},
   "outputs": [],
   "source": [
    "#Question 5: Write a RegEx pattern in python program that matches a string that has an 'a' followed by three 'b'."
   ]
  },
  {
   "cell_type": "code",
   "execution_count": 22,
   "id": "1262c86f",
   "metadata": {},
   "outputs": [
    {
     "name": "stdout",
     "output_type": "stream",
     "text": [
      "True\n",
      "True\n",
      "False\n",
      "True\n"
     ]
    }
   ],
   "source": [
    "#solution\n",
    "\n",
    "def match_pattern(input_string):\n",
    "    pattern = re.compile(r'ab{3}')\n",
    "    return pattern.match(input_string) is not None\n",
    "\n",
    "\n",
    "print(match_pattern(\"abbb\"))\n",
    "print(match_pattern(\"abbbbb\"))\n",
    "print(match_pattern(\"abb\"))\n",
    "print(match_pattern(\"abbbbbb\"))"
   ]
  },
  {
   "cell_type": "code",
   "execution_count": 23,
   "id": "169413f8",
   "metadata": {},
   "outputs": [],
   "source": [
    "#Question 6: Write a RegEx pattern in python program that matches a string that has an a followed by two to three 'b'."
   ]
  },
  {
   "cell_type": "code",
   "execution_count": 24,
   "id": "b32c09dd",
   "metadata": {},
   "outputs": [
    {
     "name": "stdout",
     "output_type": "stream",
     "text": [
      "False\n",
      "True\n",
      "True\n",
      "True\n",
      "False\n"
     ]
    }
   ],
   "source": [
    "#solution \n",
    "\n",
    "def match_pattern(input_string):\n",
    "    pattern = re.compile(r'ab{2,3}')\n",
    "    return pattern.match(input_string) is not None\n",
    "\n",
    "print(match_pattern(\"ab\"))\n",
    "print(match_pattern(\"abb\"))\n",
    "print(match_pattern(\"abbb\"))\n",
    "print(match_pattern(\"abbbbbb\"))\n",
    "print(match_pattern(\"a\"))"
   ]
  },
  {
   "cell_type": "code",
   "execution_count": 25,
   "id": "eabe9c1f",
   "metadata": {},
   "outputs": [],
   "source": [
    "#Question 7: Write a Python program that matches a string that has an 'a' followed by anything, ending in 'b'."
   ]
  },
  {
   "cell_type": "code",
   "execution_count": 27,
   "id": "9997f9c3",
   "metadata": {},
   "outputs": [
    {
     "name": "stdout",
     "output_type": "stream",
     "text": [
      "True\n",
      "True\n",
      "False\n",
      "True\n",
      "False\n"
     ]
    }
   ],
   "source": [
    "#Solution\n",
    "\n",
    "def match_pattern(input_string):\n",
    "    pattern = re.compile(r'a.*b$')\n",
    "    return pattern.match(input_string) is not None\n",
    "\n",
    "print(match_pattern(\"acb\"))\n",
    "print(match_pattern(\"ab\"))\n",
    "print(match_pattern(\"azxbc\"))\n",
    "print(match_pattern(\"abb\"))\n",
    "print(match_pattern(\"abcde\"))"
   ]
  },
  {
   "cell_type": "code",
   "execution_count": 28,
   "id": "1e51db8c",
   "metadata": {},
   "outputs": [],
   "source": [
    "#Question 8: Write a RegEx pattern in python program that matches a word at the beginning of a string."
   ]
  },
  {
   "cell_type": "code",
   "execution_count": 29,
   "id": "be48527e",
   "metadata": {},
   "outputs": [
    {
     "name": "stdout",
     "output_type": "stream",
     "text": [
      "True\n",
      "True\n",
      "True\n",
      "True\n",
      "False\n"
     ]
    }
   ],
   "source": [
    "#Solution\n",
    "\n",
    "def match_pattern(input_string):\n",
    "    pattern = re.compile(r'^\\w+')\n",
    "    return pattern.match(input_string) is not None\n",
    "\n",
    "print(match_pattern(\"hello world\"))\n",
    "print(match_pattern(\"123abc\"))\n",
    "print(match_pattern(\"hello world 123\"))\n",
    "print(match_pattern(\"hello12345\"))\n",
    "print(match_pattern(\" hello world\"))"
   ]
  },
  {
   "cell_type": "code",
   "execution_count": 30,
   "id": "67a641a3",
   "metadata": {},
   "outputs": [],
   "source": [
    "#Question 9: Write a RegEx pattern in python program that matches a word at the end of a string."
   ]
  },
  {
   "cell_type": "code",
   "execution_count": 34,
   "id": "f989d266",
   "metadata": {},
   "outputs": [
    {
     "name": "stdout",
     "output_type": "stream",
     "text": [
      "False\n",
      "True\n",
      "False\n",
      "True\n",
      "False\n"
     ]
    }
   ],
   "source": [
    "#Solution\n",
    "\n",
    "def match_pattern(input_string):\n",
    "    pattern = re.compile(r'\\w+$')\n",
    "    return pattern.match(input_string) is not None\n",
    "\n",
    "print(match_pattern(\"hello world\"))\n",
    "print(match_pattern(\"123abc\"))\n",
    "print(match_pattern(\"hello world 123\"))\n",
    "print(match_pattern(\"hello12345\"))\n",
    "print(match_pattern(\"hello world \"))"
   ]
  },
  {
   "cell_type": "code",
   "execution_count": 36,
   "id": "c800413c",
   "metadata": {},
   "outputs": [],
   "source": [
    "#Question 10: Write a RegEx pattern in python program to find all words that are 4 digits long in a string.\n",
    "# Sample text- '01 0132 231875 1458 301 2725.'\n",
    "# Expected output- ['0132', '1458', '2725']"
   ]
  },
  {
   "cell_type": "code",
   "execution_count": 37,
   "id": "215812aa",
   "metadata": {},
   "outputs": [
    {
     "name": "stdout",
     "output_type": "stream",
     "text": [
      "['0132', '1458', '2725']\n"
     ]
    }
   ],
   "source": [
    "#Solution\n",
    "\n",
    "def find_four_digit_words(input_string):\n",
    "    pattern = re.compile(r'\\b\\d{4}\\b')\n",
    "    return pattern.findall(input_string)\n",
    "\n",
    "sample_text = '01 0132 231875 1458 301 2725'\n",
    "\n",
    "print(find_four_digit_words(sample_text))"
   ]
  },
  {
   "cell_type": "code",
   "execution_count": null,
   "id": "a9eaa8d4",
   "metadata": {},
   "outputs": [],
   "source": []
  }
 ],
 "metadata": {
  "kernelspec": {
   "display_name": "Python 3 (ipykernel)",
   "language": "python",
   "name": "python3"
  },
  "language_info": {
   "codemirror_mode": {
    "name": "ipython",
    "version": 3
   },
   "file_extension": ".py",
   "mimetype": "text/x-python",
   "name": "python",
   "nbconvert_exporter": "python",
   "pygments_lexer": "ipython3",
   "version": "3.11.5"
  }
 },
 "nbformat": 4,
 "nbformat_minor": 5
}
