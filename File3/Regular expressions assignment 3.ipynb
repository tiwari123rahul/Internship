{
 "cells": [
  {
   "cell_type": "code",
   "execution_count": 70,
   "id": "ac9e2983",
   "metadata": {},
   "outputs": [],
   "source": [
    "#Question 1: Write a Python program to replace all occurrences of a space, comma, or dot with a colon.\n",
    "#Sample Text- 'Python Exercises, PHP exercises.'\n",
    "#Expected Output: Python:Exercises::PHP:exercises:"
   ]
  },
  {
   "cell_type": "code",
   "execution_count": 71,
   "id": "1048e4e6",
   "metadata": {},
   "outputs": [
    {
     "name": "stdout",
     "output_type": "stream",
     "text": [
      "Python:Exercises::PHP:exercises:\n"
     ]
    }
   ],
   "source": [
    "#Solution:\n",
    "\n",
    "import re\n",
    "\n",
    "def replace_with_colon(input_text):\n",
    "    pattern = r'[ ,.]'\n",
    "    return re.sub(pattern, ':', input_text)\n",
    "\n",
    "sample_text = 'Python Exercises, PHP exercises.'\n",
    "\n",
    "print(replace_with_colon(sample_text))"
   ]
  },
  {
   "cell_type": "code",
   "execution_count": 72,
   "id": "712810ba",
   "metadata": {},
   "outputs": [],
   "source": [
    "#Question 2: Create a dataframe using the dictionary below and remove everything (commas (,), !, XXXX, ;, etc.) from the columns except words.\n",
    "#Dictionary- {'SUMMARY' : ['hello, world!', 'XXXXX test', '123four, five:; six...']}\n",
    "# Expected output-\n",
    "# 0      hello world\n",
    "# 1             test\n",
    "# 2    four five six\n"
   ]
  },
  {
   "cell_type": "code",
   "execution_count": 73,
   "id": "9c024bd7",
   "metadata": {},
   "outputs": [
    {
     "name": "stdout",
     "output_type": "stream",
     "text": [
      "         SUMMARY\n",
      "0    hello world\n",
      "1           test\n",
      "2  four five six\n"
     ]
    }
   ],
   "source": [
    "# Solution\n",
    "\n",
    "import pandas as pd\n",
    "import re\n",
    "\n",
    "data = {'SUMMARY' : ['hello, world!', 'XXXXX test', '123four, five:; six...']}\n",
    "df = pd.DataFrame(data)\n",
    "\n",
    "df['SUMMARY'] = df['SUMMARY'].str.replace('[^a-z\\s]', '', regex=True)\n",
    "\n",
    "print(df)"
   ]
  },
  {
   "cell_type": "code",
   "execution_count": 74,
   "id": "7057af91",
   "metadata": {},
   "outputs": [
    {
     "name": "stdout",
     "output_type": "stream",
     "text": [
      "['This', 'sample', 'text', 'words', 'with', 'verious', 'lengths', 'like', 'banana', 'orange', 'apple', 'kiwi']\n"
     ]
    }
   ],
   "source": [
    "#Question 3: Create a function in python to find all words that are at least 4 characters long in a string. The use of the re.compile() method is mandatory.\n",
    "\n",
    "#Solution\n",
    "\n",
    "import re\n",
    "\n",
    "def find_all_words(input_string):\n",
    "    pattern = re.compile(r'\\b\\w{4,}\\b')\n",
    "    return pattern.findall(input_string)\n",
    "\n",
    "input_string = \"This is sample text words with verious lengths like banana, orange, apple and kiwi.\"\n",
    "\n",
    "print(find_all_words(input_string))"
   ]
  },
  {
   "cell_type": "code",
   "execution_count": 75,
   "id": "b7fb8e62",
   "metadata": {},
   "outputs": [
    {
     "name": "stdout",
     "output_type": "stream",
     "text": [
      "['This', 'text', 'words', 'with', 'like', 'apple', 'and', 'kiwi']\n"
     ]
    }
   ],
   "source": [
    "#Question 4: Create a function in python to find all three, four, and five character words in a string. The use of the re.compile() method is mandatory.\n",
    "\n",
    "#Solution\n",
    "\n",
    "import re \n",
    "\n",
    "def find_words(input_string):\n",
    "    pattern = re.compile(r'\\b\\w{3,5}\\b')\n",
    "    return pattern.findall(input_string)\n",
    "\n",
    "input_string = \"This is sample text words with verious lengths like banana, orange, apple and kiwi.\"\n",
    "\n",
    "print(find_words(input_string))"
   ]
  },
  {
   "cell_type": "code",
   "execution_count": 76,
   "id": "7a14daf3",
   "metadata": {},
   "outputs": [
    {
     "name": "stdout",
     "output_type": "stream",
     "text": [
      "['example .com', 'hr@fliprobo .com', 'github .com', 'Hello Data Science World', 'Data Scientist']\n"
     ]
    }
   ],
   "source": [
    "#Question 5: Create a function in Python to remove the parenthesis in a list of strings. The use of the re.compile() method is mandatory.\n",
    "# Sample Text: [\"example (.com)\", \"hr@fliprobo (.com)\", \"github (.com)\", \"Hello (Data Science World)\", \"Data (Scientist)\"]\n",
    "# Expected Output:\n",
    "# example.com\n",
    "# hr@fliprobo.com\n",
    "# github.com\n",
    "# Hello Data Science World\n",
    "# Data Scientist\n",
    "\n",
    "#Solution\n",
    "\n",
    "\n",
    "import re \n",
    "\n",
    "def remove_parenthesis(input_list):\n",
    "    pattern = re.compile(r\"\\(|\\)\")\n",
    "    output_list = []\n",
    "    for item in input_list:\n",
    "        output_list.append(pattern.sub('', item))\n",
    "    return output_list\n",
    "\n",
    "input_list = [\"example (.com)\", \"hr@fliprobo (.com)\", \"github (.com)\", \"Hello (Data Science World)\", \"Data (Scientist)\"]\n",
    "\n",
    "print(remove_parenthesis(input_list))"
   ]
  },
  {
   "cell_type": "code",
   "execution_count": 77,
   "id": "5ef6eacc",
   "metadata": {},
   "outputs": [
    {
     "name": "stdout",
     "output_type": "stream",
     "text": [
      "['example', 'hr@fliprobo', 'github', 'Hello', 'Data']\n"
     ]
    }
   ],
   "source": [
    "#Question 6: Write a python program to remove the parenthesis area from the text stored in the text file using Regular Expression.\n",
    "# Sample Text: [\"example (.com)\", \"hr@fliprobo (.com)\", \"github (.com)\", \"Hello (Data Science World)\", \"Data (Scientist)\"]\n",
    "# Expected Output: [\"example\", \"hr@fliprobo\", \"github\", \"Hello\", \"Data\"]\n",
    "# Note- Store given sample text in the text file and then to remove the parenthesis area from the text.\n",
    "\n",
    "#Solution\n",
    "\n",
    "import re\n",
    "\n",
    "def remove_parenthesis(input_string):\n",
    "    pattern = re.compile(r\"\\s*\\([^)]*\\)\\s*\")\n",
    "    output_list = []\n",
    "    for item in input_list:\n",
    "        output_list.append(pattern.sub(\"\", item))\n",
    "    return output_list\n",
    "\n",
    "input_list = [\"example (.com)\", \"hr@fliprobo (.com)\", \"github (.com)\", \"Hello (Data Science World)\", \"Data (Scientist)\"]\n",
    "\n",
    "print(remove_parenthesis(input_string))\n"
   ]
  },
  {
   "cell_type": "code",
   "execution_count": 78,
   "id": "bf02ee03",
   "metadata": {},
   "outputs": [
    {
     "name": "stdout",
     "output_type": "stream",
     "text": [
      "['Importance', 'Of', 'Regular', 'Expressions', 'In', 'Python']\n"
     ]
    }
   ],
   "source": [
    "#Question 7: Write a regular expression in Python to split a string into uppercase letters.\n",
    "# Sample text: “ImportanceOfRegularExpressionsInPython”\n",
    "# Expected Output: [‘Importance’, ‘Of’, ‘Regular’, ‘Expression’, ‘In’, ‘Python’]\n",
    "\n",
    "#Solution\n",
    "\n",
    "import re\n",
    "\n",
    "def split_uppercase(text):\n",
    "    pattern = re.compile(r\"[A-Z][a-z]*\")\n",
    "    return pattern.findall(text)\n",
    "\n",
    "sample_text = \"ImportanceOfRegularExpressionsInPython\"\n",
    "\n",
    "print(split_uppercase(sample_text))\n"
   ]
  },
  {
   "cell_type": "code",
   "execution_count": 79,
   "id": "05ad4cdd",
   "metadata": {},
   "outputs": [
    {
     "name": "stdout",
     "output_type": "stream",
     "text": [
      "RegularExpression1 IsAn2 ImportantTopic3 InPython\n"
     ]
    }
   ],
   "source": [
    "#Question 8: Create a function in python to insert spaces between words starting with numbers.\n",
    "# Sample Text: “RegularExpression1IsAn2ImportantTopic3InPython\"\n",
    "# Expected Output: RegularExpression 1IsAn 2ImportantTopic 3InPython\n",
    "\n",
    "#Solution\n",
    "\n",
    "import re\n",
    "\n",
    "def insert_spaces(text):\n",
    "    pattern = re.compile(r'(\\d+)([A-Za-z]+)')\n",
    "    result = re.sub(pattern, r'\\1 \\2', text)\n",
    "    return result\n",
    "\n",
    "sample_text = \"RegularExpression1IsAn2ImportantTopic3InPython\"\n",
    "\n",
    "output = insert_spaces(sample_text)\n",
    "print(output)"
   ]
  },
  {
   "cell_type": "code",
   "execution_count": 80,
   "id": "8104ef28",
   "metadata": {},
   "outputs": [
    {
     "name": "stdout",
     "output_type": "stream",
     "text": [
      "RegularExpression1 IsAn2 ImportantTopic3 InPython\n"
     ]
    }
   ],
   "source": [
    "#Question 9:Create a function in python to insert spaces between words starting with capital letters or with numbers.\n",
    "# Sample Text: “RegularExpression1IsAn2ImportantTopic3InPython\"\n",
    "# Expected Output:  RegularExpression 1 IsAn 2 ImportantTopic 3 InPython\n",
    "\n",
    "#Solution\n",
    "\n",
    "import re\n",
    "\n",
    "def insert_spaces(text):\n",
    "    pattern = re.compile(r'(?<=[A-Z0-9])(?=[A-Z])')\n",
    "    return pattern.sub(' ', text)\n",
    "\n",
    "sample_text = \"RegularExpression1IsAn2ImportantTopic3InPython\"\n",
    "\n",
    "print(insert_spaces(sample_text))"
   ]
  },
  {
   "cell_type": "code",
   "execution_count": 81,
   "id": "60380f0e",
   "metadata": {},
   "outputs": [],
   "source": [
    "#Question 10:Use the github link below to read the data and create a dataframe. After creating the dataframe extract the first 6 letters of each country and store in the dataframe under a new column called first_five_letters.\n",
    "\n",
    "#Datasets = https://raw.githubusercontent.com/dsrscientist/DSData/master/happiness_score_dataset.csv\n",
    "\n",
    "# Solution\n",
    "\n",
    "import pandas as pd\n",
    "\n",
    "url = \"https://raw.githubusercontent.com/dsrscientist/DSData/master/happiness_score_dataset.csv\"\n",
    "\n",
    "df = pd.read_csv(url)"
   ]
  },
  {
   "cell_type": "code",
   "execution_count": 82,
   "id": "1ea4b441",
   "metadata": {},
   "outputs": [
    {
     "name": "stdout",
     "output_type": "stream",
     "text": [
      "<bound method NDFrame.head of          Country                           Region  Happiness Rank  \\\n",
      "0    Switzerland                   Western Europe               1   \n",
      "1        Iceland                   Western Europe               2   \n",
      "2        Denmark                   Western Europe               3   \n",
      "3         Norway                   Western Europe               4   \n",
      "4         Canada                    North America               5   \n",
      "..           ...                              ...             ...   \n",
      "153       Rwanda               Sub-Saharan Africa             154   \n",
      "154        Benin               Sub-Saharan Africa             155   \n",
      "155        Syria  Middle East and Northern Africa             156   \n",
      "156      Burundi               Sub-Saharan Africa             157   \n",
      "157         Togo               Sub-Saharan Africa             158   \n",
      "\n",
      "     Happiness Score  Standard Error  Economy (GDP per Capita)   Family  \\\n",
      "0              7.587         0.03411                   1.39651  1.34951   \n",
      "1              7.561         0.04884                   1.30232  1.40223   \n",
      "2              7.527         0.03328                   1.32548  1.36058   \n",
      "3              7.522         0.03880                   1.45900  1.33095   \n",
      "4              7.427         0.03553                   1.32629  1.32261   \n",
      "..               ...             ...                       ...      ...   \n",
      "153            3.465         0.03464                   0.22208  0.77370   \n",
      "154            3.340         0.03656                   0.28665  0.35386   \n",
      "155            3.006         0.05015                   0.66320  0.47489   \n",
      "156            2.905         0.08658                   0.01530  0.41587   \n",
      "157            2.839         0.06727                   0.20868  0.13995   \n",
      "\n",
      "     Health (Life Expectancy)  Freedom  Trust (Government Corruption)  \\\n",
      "0                     0.94143  0.66557                        0.41978   \n",
      "1                     0.94784  0.62877                        0.14145   \n",
      "2                     0.87464  0.64938                        0.48357   \n",
      "3                     0.88521  0.66973                        0.36503   \n",
      "4                     0.90563  0.63297                        0.32957   \n",
      "..                        ...      ...                            ...   \n",
      "153                   0.42864  0.59201                        0.55191   \n",
      "154                   0.31910  0.48450                        0.08010   \n",
      "155                   0.72193  0.15684                        0.18906   \n",
      "156                   0.22396  0.11850                        0.10062   \n",
      "157                   0.28443  0.36453                        0.10731   \n",
      "\n",
      "     Generosity  Dystopia Residual  \n",
      "0       0.29678            2.51738  \n",
      "1       0.43630            2.70201  \n",
      "2       0.34139            2.49204  \n",
      "3       0.34699            2.46531  \n",
      "4       0.45811            2.45176  \n",
      "..          ...                ...  \n",
      "153     0.22628            0.67042  \n",
      "154     0.18260            1.63328  \n",
      "155     0.47179            0.32858  \n",
      "156     0.19727            1.83302  \n",
      "157     0.16681            1.56726  \n",
      "\n",
      "[158 rows x 12 columns]>\n"
     ]
    }
   ],
   "source": [
    "print(df.head)"
   ]
  },
  {
   "cell_type": "code",
   "execution_count": 83,
   "id": "14ba297a",
   "metadata": {},
   "outputs": [],
   "source": [
    "df[\"first_five_letters\"] = df[\"Country\"].str[:6]"
   ]
  },
  {
   "cell_type": "raw",
   "id": "87b4062e",
   "metadata": {},
   "source": [
    "print(df.head)"
   ]
  },
  {
   "cell_type": "code",
   "execution_count": 84,
   "id": "2c3a2c56",
   "metadata": {},
   "outputs": [
    {
     "name": "stdout",
     "output_type": "stream",
     "text": [
      "True\n",
      "False\n",
      "True\n",
      "False\n"
     ]
    }
   ],
   "source": [
    "#Question 11:Write a Python program to match a string that contains only upper and lowercase letters, numbers, and underscores.\n",
    "\n",
    "#Solution\n",
    "\n",
    "import re\n",
    "\n",
    "def match_string(input_string):\n",
    "    pattern = re.compile(r'^[a-zA-Z0-9_]+$')\n",
    "    return bool(pattern.match(input_string))\n",
    "\n",
    "print(match_string(\"Hello_World123\"))\n",
    "print(match_string(\"hello world\"))\n",
    "print(match_string(\"12345\"))\n",
    "print(match_string(\"hello@world\"))"
   ]
  },
  {
   "cell_type": "code",
   "execution_count": 85,
   "id": "88fcd4c2",
   "metadata": {},
   "outputs": [
    {
     "name": "stdout",
     "output_type": "stream",
     "text": [
      "True\n",
      "True\n",
      "True\n",
      "False\n"
     ]
    }
   ],
   "source": [
    "#Question 12: Write a Python program where a string will start with a specific number. \n",
    "\n",
    "# Solution\n",
    "\n",
    "import re\n",
    "\n",
    "def start_with_number(input_string, number):\n",
    "    pattern = re.compile(r'^' + str(number))\n",
    "    return bool(pattern.match(input_string))\n",
    "\n",
    "print(start_with_number(\"123abcd\", 1))\n",
    "print(start_with_number(\"4567bhgf\", 4))\n",
    "print(start_with_number(\"7894ghi\", 7))\n",
    "print(start_with_number(\"abhd453\", 4))"
   ]
  },
  {
   "cell_type": "code",
   "execution_count": 86,
   "id": "c36449b1",
   "metadata": {},
   "outputs": [
    {
     "name": "stdout",
     "output_type": "stream",
     "text": [
      "198.165.1.2\n"
     ]
    }
   ],
   "source": [
    "#Question 13: Write a Python program to remove leading zeros from an IP address\n",
    "\n",
    "#Solution\n",
    "\n",
    "import re \n",
    "\n",
    "def remove_leading_zeros(ip_address):\n",
    "    pattern = re.compile(r'\\b0+(\\d+)')\n",
    "    return pattern.sub(r'\\1', ip_address)\n",
    "\n",
    "ip_address = \"198.165.001.002\"\n",
    "\n",
    "print(remove_leading_zeros(ip_address))"
   ]
  },
  {
   "cell_type": "code",
   "execution_count": 87,
   "id": "b6b17fbb",
   "metadata": {},
   "outputs": [
    {
     "name": "stdout",
     "output_type": "stream",
     "text": [
      "['August 15th 1947']\n"
     ]
    }
   ],
   "source": [
    "#Question 14: Write a regular expression in python to match a date string in the form of Month name followed by day number and year stored in a text file.\n",
    "# Sample text :  ' On August 15th 1947 that India was declared independent from British colonialism, and the reins of control were handed over to the leaders of the Country’.\n",
    "# Expected Output- August 15th 1947\n",
    "# Note- Store given sample text in the text file and then extract the date string asked format.\n",
    "\n",
    "#Solution\n",
    "\n",
    "import re\n",
    "\n",
    "pattern = re.compile(r'(?:January|February|March|April|May|June|July|August|September|October|November|December)\\s+\\d{1,2}(?:st|nd|rd|th)\\s+\\d{4}')\n",
    "\n",
    "sample_text = \"On August 15th 1947 that India was declared independent from British colonialism, and the reins of control were handed over to the leaders of the Country\"\n",
    "\n",
    "matches = pattern.findall(sample_text)\n",
    "\n",
    "print(matches)\n"
   ]
  },
  {
   "cell_type": "code",
   "execution_count": 88,
   "id": "a13bdb91",
   "metadata": {},
   "outputs": [
    {
     "name": "stdout",
     "output_type": "stream",
     "text": [
      "Found words: ['fox', 'dog']\n"
     ]
    }
   ],
   "source": [
    "#Question 15:Write a Python program to search some literals strings in a string. \n",
    "# Sample text : 'The quick brown fox jumps over the lazy dog.'\n",
    "# Searched words : 'fox', 'dog', 'horse'\n",
    "\n",
    "#Solution\n",
    "\n",
    "import re \n",
    "\n",
    "def search_strings(text, searched_words):\n",
    "    found_words = []\n",
    "    for words in searched_words:\n",
    "        if words in text:\n",
    "            found_words.append(words)\n",
    "    return found_words\n",
    "\n",
    "sample_text = \"The quick brown fox jumps over the lazy dog.\"\n",
    "\n",
    "searched_words = ['fox', 'dog', 'horse']\n",
    "\n",
    "found_words = search_strings(sample_text, searched_words)\n",
    "\n",
    "print(\"Found words:\", found_words)"
   ]
  },
  {
   "cell_type": "code",
   "execution_count": 94,
   "id": "1679a76b",
   "metadata": {},
   "outputs": [
    {
     "name": "stdout",
     "output_type": "stream",
     "text": [
      "The pattern 'fox' is found at index 16 in the original string.\n"
     ]
    }
   ],
   "source": [
    "#Question 16: - Write a Python program to search a literals string in a string and also find the location within the original string where the pattern occurs\n",
    "# Sample text : 'The quick brown fox jumps over the lazy dog.'\n",
    "# Searched words : 'fox'\n",
    "\n",
    "#Solution\n",
    "\n",
    "import re \n",
    "\n",
    "def search_string(text, pattern):\n",
    "    index = text.find(pattern)\n",
    "    if index != -1:\n",
    "        print(f\"The pattern '{pattern}' is found at index {index} in the original string.\")\n",
    "    else:\n",
    "        print(f\"The pattern '{pattern}' is not found in the original string.\")\n",
    "\n",
    "\n",
    "sample_text = 'The quick brown fox jumps over the lazy dog.'\n",
    "\n",
    "\n",
    "searched_word = 'fox'\n",
    "\n",
    "\n",
    "search_string(sample_text, searched_word)\n"
   ]
  },
  {
   "cell_type": "code",
   "execution_count": 95,
   "id": "37d0c9b4",
   "metadata": {},
   "outputs": [
    {
     "name": "stdout",
     "output_type": "stream",
     "text": [
      "Found Substrings: ['exercises', 'exercises', 'exercises']\n"
     ]
    }
   ],
   "source": [
    "#Question 17:Write a Python program to find the substrings within a string.\n",
    "# Sample text : 'Python exercises, PHP exercises, C# exercises'\n",
    "# Pattern : 'exercises'.\n",
    "\n",
    "#Solution\n",
    "\n",
    "import re\n",
    "\n",
    "def find_substrings(text, pattern):\n",
    "    substrings = re.findall(pattern, text)\n",
    "    return substrings\n",
    "\n",
    "sample_text = 'Python exercises, PHP exercises, C# exercises'\n",
    "\n",
    "pattern = 'exercises'\n",
    "\n",
    "substrings = find_substrings(sample_text, pattern)\n",
    "\n",
    "print(\"Found Substrings:\", substrings)"
   ]
  },
  {
   "cell_type": "code",
   "execution_count": 98,
   "id": "ac0a9c25",
   "metadata": {},
   "outputs": [
    {
     "name": "stdout",
     "output_type": "stream",
     "text": [
      "Occurrences and their positions:\n",
      "Occurrence 1: Position 7 to 16\n",
      "Occurrence 2: Position 22 to 31\n",
      "Occurrence 3: Position 36 to 45\n"
     ]
    }
   ],
   "source": [
    "#Question 18: Write a Python program to find the occurrence and position of the substrings within a string.\n",
    "\n",
    "#Solution\n",
    "\n",
    "import re\n",
    "\n",
    "def find_substring_positions(text, pattern):\n",
    "    positions = []\n",
    "    for match in re.finditer(pattern, text):\n",
    "        positions.append((match.start(), match.end()))\n",
    "    return positions\n",
    "\n",
    "sample_text = 'Python exercises, PHP exercises, C# exercises'\n",
    "\n",
    "pattern = 'exercises'\n",
    "\n",
    "substring_positions = find_substring_positions(sample_text, pattern)\n",
    "\n",
    "\n",
    "print(\"Occurrences and their positions:\")\n",
    "for i, (start, end) in enumerate(substring_positions, start=1):\n",
    "    print(f\"Occurrence {i}: Position {start} to {end}\")"
   ]
  },
  {
   "cell_type": "code",
   "execution_count": 100,
   "id": "e4387ca8",
   "metadata": {},
   "outputs": [
    {
     "name": "stdout",
     "output_type": "stream",
     "text": [
      "Formatted date: 05-04-2024\n"
     ]
    }
   ],
   "source": [
    "#Question 19: Write a Python program to convert a date of yyyy-mm-dd format to dd-mm-yyyy format.\n",
    "\n",
    "#Solution\n",
    "\n",
    "from datetime import datetime\n",
    "\n",
    "def convert_date_format(date_str):\n",
    "    date_obj = datetime.strptime(date_str, \"%Y-%m-%d\")\n",
    "    formatted_date = date_obj.strftime(\"%d-%m-%Y\")\n",
    "    return formatted_date\n",
    "\n",
    "date_str = \"2024-04-05\"\n",
    "\n",
    "formatted_date = convert_date_format(date_str)\n",
    "\n",
    "print(\"Formatted date:\", formatted_date)"
   ]
  },
  {
   "cell_type": "code",
   "execution_count": 102,
   "id": "e1270f63",
   "metadata": {},
   "outputs": [
    {
     "name": "stdout",
     "output_type": "stream",
     "text": [
      "Found decimal numbers: ['01.12', '145.8', '3.01', '27.25', '0.25']\n"
     ]
    }
   ],
   "source": [
    "#Question 20: Create a function in python to find all decimal numbers with a precision of 1 or 2 in a string. The use of the re.compile() method is mandatory.\n",
    "# Sample Text: \"01.12 0132.123 2.31875 145.8 3.01 27.25 0.25\"\n",
    "# Expected Output: ['01.12', '145.8', '3.01', '27.25', '0.25']\n",
    "\n",
    "#Solution\n",
    "\n",
    "import re\n",
    "\n",
    "def find_decimal_numbers(text):\n",
    "    pattern = re.compile(r'\\b\\d+\\.\\d{1,2}\\b')\n",
    "    return pattern.findall(text)\n",
    "\n",
    "sample_text = \"01.12 0132.123 2.31875 145.8 3.01 27.25 0.25\"\n",
    "\n",
    "decimal_numbers = find_decimal_numbers(sample_text)\n",
    "\n",
    "print(\"Found decimal numbers:\", decimal_numbers)"
   ]
  },
  {
   "cell_type": "code",
   "execution_count": 103,
   "id": "36c22793",
   "metadata": {},
   "outputs": [
    {
     "name": "stdout",
     "output_type": "stream",
     "text": [
      "Number: 250, Position: 26\n",
      "Number: 20, Position: 50\n"
     ]
    }
   ],
   "source": [
    "#Question 21:Write a Python program to separate and print the numbers and their position of a given string.\n",
    "\n",
    "#Solution\n",
    "\n",
    "import re\n",
    "\n",
    "def find_numbers_with_positions(text):\n",
    "    pattern = re.compile(r'\\d+')\n",
    "    matches = pattern.finditer(text)\n",
    "    for match in matches:\n",
    "        print(f\"Number: {match.group()}, Position: {match.start()}\")\n",
    "\n",
    "\n",
    "sample_text = \"The price of the item is $250 and the discount is 20%.\"\n",
    "\n",
    "\n",
    "find_numbers_with_positions(sample_text)"
   ]
  },
  {
   "cell_type": "code",
   "execution_count": 104,
   "id": "7af2e90f",
   "metadata": {},
   "outputs": [
    {
     "name": "stdout",
     "output_type": "stream",
     "text": [
      "Maximum number: 950\n"
     ]
    }
   ],
   "source": [
    "#Question 22:Write a regular expression in python program to extract maximum/largest numeric value from a string.\n",
    "# Sample Text:  'My marks in each semester are: 947, 896, 926, 524, 734, 950, 642'\n",
    "# Expected Output: 950\n",
    " \n",
    "#Solution\n",
    "\n",
    "import re\n",
    "\n",
    "def extract_maximum_number(text):\n",
    "    numbers = re.findall(r'\\d+', text)\n",
    "    if numbers:\n",
    "        return max(map(int, numbers))\n",
    "    else:\n",
    "        return None\n",
    "\n",
    "sample_text = 'My marks in each semester are: 947, 896, 926, 524, 734, 950, 642'\n",
    "\n",
    "max_number = extract_maximum_number(sample_text)\n",
    "\n",
    "print(\"Maximum number:\", max_number)"
   ]
  },
  {
   "cell_type": "code",
   "execution_count": 105,
   "id": "d47d3739",
   "metadata": {},
   "outputs": [
    {
     "name": "stdout",
     "output_type": "stream",
     "text": [
      "Result: Regular Expression Is An Important Topic In Python\n"
     ]
    }
   ],
   "source": [
    "#Question 23:Create a function in python to insert spaces between words starting with capital letters.\n",
    "# Sample Text: “RegularExpressionIsAnImportantTopicInPython\"\n",
    "# Expected Output: Regular Expression Is An Important Topic In Python\n",
    "\n",
    "#Solution\n",
    "\n",
    "import re\n",
    "\n",
    "def insert_spaces(text):\n",
    "    # Insert space before capital letters (except at the beginning of the string)\n",
    "    spaced_text = re.sub(r'(?<!^)([A-Z])', r' \\1', text)\n",
    "    return spaced_text\n",
    "\n",
    "sample_text = \"RegularExpressionIsAnImportantTopicInPython\"\n",
    "\n",
    "result_text = insert_spaces(sample_text)\n",
    "\n",
    "print(\"Result:\", result_text)"
   ]
  },
  {
   "cell_type": "code",
   "execution_count": 106,
   "id": "d844119e",
   "metadata": {},
   "outputs": [
    {
     "name": "stdout",
     "output_type": "stream",
     "text": [
      "Sequences found: ['This', 'Is', 'Sample', 'Text', 'With', 'Sequences', 'One', 'Upper', 'Case', 'Letter', 'Followed', 'Lower', 'Case', 'Letters', 'Python', 'Regex', 'More']\n"
     ]
    }
   ],
   "source": [
    "#Question 24: Python regex to find sequences of one upper case letter followed by lower case letters\n",
    "\n",
    "#Solution\n",
    "\n",
    "import re\n",
    "\n",
    "def find_sequences(text):\n",
    "    pattern = re.compile(r'[A-Z][a-z]+')\n",
    "    sequences = pattern.findall(text)\n",
    "    return sequences\n",
    "\n",
    "sample_text = \"This Is A Sample Text With Sequences of One Upper Case Letter Followed by Lower Case Letters like Python, Regex, and More\"\n",
    "\n",
    "\n",
    "result = find_sequences(sample_text)\n",
    "\n",
    "print(\"Sequences found:\", result)"
   ]
  },
  {
   "cell_type": "code",
   "execution_count": 107,
   "id": "4bdaf6de",
   "metadata": {},
   "outputs": [
    {
     "name": "stdout",
     "output_type": "stream",
     "text": [
      "Expected Output: Hello hello world\n"
     ]
    }
   ],
   "source": [
    "#Question 25: Write a Python program to remove continuous duplicate words from Sentence using Regular Expression.\n",
    "# Sample Text: \"Hello hello world world\"\n",
    "# Expected Output: Hello hello world\n",
    "\n",
    "#Solution\n",
    "\n",
    "import re\n",
    "\n",
    "def remove_continuous_duplicates(sentence):\n",
    "    # Use regular expression to find continuous duplicate words\n",
    "    pattern = r'\\b(\\w+)(\\s+\\1)+\\b'\n",
    "    # Replace continuous duplicate words with just one occurrence\n",
    "    modified_sentence = re.sub(pattern, r'\\1', sentence)\n",
    "    return modified_sentence\n",
    "\n",
    "sample_text = \"Hello hello world world\"\n",
    "\n",
    "output = remove_continuous_duplicates(sample_text)\n",
    "print(\"Expected Output:\", output)"
   ]
  },
  {
   "cell_type": "code",
   "execution_count": 108,
   "id": "0dea63e9",
   "metadata": {},
   "outputs": [
    {
     "name": "stdout",
     "output_type": "stream",
     "text": [
      "\"Hello123\" ends with an alphanumeric character.\n",
      "\"World!\" does not end with an alphanumeric character.\n",
      "\"12345\" ends with an alphanumeric character.\n",
      "\"Python3\" ends with an alphanumeric character.\n",
      "\"Test123!\" does not end with an alphanumeric character.\n"
     ]
    }
   ],
   "source": [
    "#Question 26:Write a python program using RegEx to accept string ending with alphanumeric character.\n",
    "\n",
    "#Solution:\n",
    "\n",
    "import re\n",
    "\n",
    "def ends_with_alphanumeric(input_str):\n",
    "    pattern = r'\\w$'\n",
    "    match = re.search(pattern, input_str)\n",
    "    if match:\n",
    "        return True\n",
    "    else:\n",
    "        return False\n",
    "\n",
    "test_strings = [\"Hello123\", \"World!\", \"12345\", \"Python3\", \"Test123!\"]\n",
    "\n",
    "for string in test_strings:\n",
    "    if ends_with_alphanumeric(string):\n",
    "        print(f'\"{string}\" ends with an alphanumeric character.')\n",
    "    else:\n",
    "        print(f'\"{string}\" does not end with an alphanumeric character.')"
   ]
  },
  {
   "cell_type": "code",
   "execution_count": 109,
   "id": "3860b119",
   "metadata": {},
   "outputs": [
    {
     "name": "stdout",
     "output_type": "stream",
     "text": [
      "Expected Output: ['#Doltiwal', '#xyzabc', '#Demonetization']\n"
     ]
    }
   ],
   "source": [
    "#Question 27: Write a python program using RegEx to extract the hashtags.\n",
    "# Sample Text:  \"\"\"RT @kapil_kausik: #Doltiwal I mean #xyzabc is \"hurt\" by #Demonetization as the same has rendered USELESS <ed><U+00A0><U+00BD><ed><U+00B1><U+0089> \"acquired funds\" No wo\"\"\"\n",
    "# Expected Output: ['#Doltiwal', '#xyzabc', '#Demonetization']\n",
    "\n",
    "#Solution\n",
    "\n",
    "import re\n",
    "\n",
    "def extract_hashtags(text):\n",
    "    pattern = r'#\\w+'\n",
    "    hashtags = re.findall(pattern, text)\n",
    "    return hashtags\n",
    "\n",
    "sample_text = \"\"\"RT @kapil_kausik: #Doltiwal I mean #xyzabc is \"hurt\" by #Demonetization as the same has rendered USELESS <ed><U+00A0><U+00BD><ed><U+00B1><U+0089> \"acquired funds\" No wo\"\"\"\n",
    "\n",
    "hashtags = extract_hashtags(sample_text)\n",
    "print(\"Expected Output:\", hashtags)"
   ]
  },
  {
   "cell_type": "code",
   "execution_count": 110,
   "id": "1fe6162d",
   "metadata": {},
   "outputs": [
    {
     "name": "stdout",
     "output_type": "stream",
     "text": [
      "Expected Output: @Jags123456 Bharat band on 28??<ed><ed>Those who  are protesting #demonetization  are all different party leaders\n"
     ]
    }
   ],
   "source": [
    "#Question 28: Write a python program using RegEx to remove <U+..> like symbols Check the below sample text, there are strange symbols something of the sort <U+..> all over the place. You need to come up with a general Regex expression that will cover all such symbols.\n",
    "# Sample Text: \"@Jags123456 Bharat band on 28??<ed><U+00A0><U+00BD><ed><U+00B8><U+0082>Those who  are protesting #demonetization  are all different party leaders\"\n",
    "# Expected Output: @Jags123456 Bharat band on 28??<ed><ed>Those who  are protesting #demonetization  are all different party leaders\n",
    "\n",
    "#Solution\n",
    "\n",
    "import re\n",
    "\n",
    "def remove_unicode_symbols(text):\n",
    "    pattern = r'<U\\+[0-9A-Fa-f]+>'\n",
    "    cleaned_text = re.sub(pattern, '', text)\n",
    "    return cleaned_text\n",
    "\n",
    "sample_text = \"@Jags123456 Bharat band on 28??<ed><U+00A0><U+00BD><ed><U+00B8><U+0082>Those who  are protesting #demonetization  are all different party leaders\"\n",
    "\n",
    "output_text = remove_unicode_symbols(sample_text)\n",
    "print(\"Expected Output:\", output_text)"
   ]
  },
  {
   "cell_type": "code",
   "execution_count": 118,
   "id": "2bcf6259",
   "metadata": {},
   "outputs": [],
   "source": [
    "#Queation 29: Write a python program to extract dates from the text stored in the text file.\n",
    "# Sample Text: Ron was born on 12-09-1992 and he was admitted to school 15-12-1999.\n",
    "# Note- Store this sample text in the file and then extract dates.\n",
    "\n",
    "# Solution : unable to understatd and solve this problem kindly guide me how to solve it "
   ]
  },
  {
   "cell_type": "code",
   "execution_count": 119,
   "id": "6d082f6a",
   "metadata": {},
   "outputs": [
    {
     "name": "stdout",
     "output_type": "stream",
     "text": [
      "Expected Output: following example creates ArrayList a capacity elements. 4 elements added ArrayList ArrayList trimmed accordingly.\n"
     ]
    }
   ],
   "source": [
    "#Question 30:Create a function in python to remove all words from a string of length between 2 and 4. The use of the re.compile() method is mandatory.\n",
    "# Sample Text: \"The following example creates an ArrayList with a capacity of 50 elements. 4 elements are then added to the ArrayList and the ArrayList is trimmed accordingly.\"\n",
    "# Expected Output:  following example creates ArrayList a capacity elements. 4 elements added ArrayList ArrayList trimmed accordingly.\n",
    "\n",
    "\n",
    "#Solution\n",
    "\n",
    "import re\n",
    "\n",
    "def remove_words_between_lengths(text):\n",
    "    pattern = re.compile(r'\\b\\w{2,4}\\b')\n",
    "    cleaned_text = re.sub(pattern, '', text)\n",
    "    cleaned_text = re.sub(r'\\s+', ' ', cleaned_text)\n",
    "    return cleaned_text.strip()\n",
    "\n",
    "sample_text = \"The following example creates an ArrayList with a capacity of 50 elements. 4 elements are then added to the ArrayList and the ArrayList is trimmed accordingly.\"\n",
    "\n",
    "output_text = remove_words_between_lengths(sample_text)\n",
    "print(\"Expected Output:\", output_text)"
   ]
  },
  {
   "cell_type": "code",
   "execution_count": null,
   "id": "017c172b",
   "metadata": {},
   "outputs": [],
   "source": []
  }
 ],
 "metadata": {
  "kernelspec": {
   "display_name": "Python 3 (ipykernel)",
   "language": "python",
   "name": "python3"
  },
  "language_info": {
   "codemirror_mode": {
    "name": "ipython",
    "version": 3
   },
   "file_extension": ".py",
   "mimetype": "text/x-python",
   "name": "python",
   "nbconvert_exporter": "python",
   "pygments_lexer": "ipython3",
   "version": "3.11.5"
  }
 },
 "nbformat": 4,
 "nbformat_minor": 5
}
