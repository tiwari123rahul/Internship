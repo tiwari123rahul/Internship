{
 "cells": [
  {
   "cell_type": "markdown",
   "id": "71e99566",
   "metadata": {},
   "source": [
    "# WEB SCRAPING-ASSIGNMENT3"
   ]
  },
  {
   "cell_type": "code",
   "execution_count": 40,
   "id": "c6872108",
   "metadata": {},
   "outputs": [],
   "source": [
    "from selenium import webdriver\n",
    "from selenium.webdriver.common.by import By\n",
    "from selenium.webdriver.common.keys import Keys\n",
    "from selenium.webdriver.support.ui import WebDriverWait\n",
    "from selenium.webdriver.support import expected_conditions as EC\n",
    "import pandas as pd\n",
    "import time"
   ]
  },
  {
   "cell_type": "markdown",
   "id": "44bcb394",
   "metadata": {},
   "source": [
    "# Q1 & Q2"
   ]
  },
  {
   "cell_type": "code",
   "execution_count": 22,
   "id": "934f4664",
   "metadata": {},
   "outputs": [
    {
     "name": "stdout",
     "output_type": "stream",
     "text": [
      "Enter the product name to search on Amazon: guitar\n",
      "Data scraped and saved to guitar_amazon_products.csv\n"
     ]
    }
   ],
   "source": [
    "# Function to scrape Amazon for a specific product\n",
    "def scrape_amazon(product_name):\n",
    "    # Set up the webdriver\n",
    "    driver = webdriver.Chrome()\n",
    "\n",
    "    # Open Amazon\n",
    "    driver.get(\"https://www.amazon.in\")\n",
    "\n",
    "    # Wait for the search bar to be present\n",
    "    wait = WebDriverWait(driver, 10)\n",
    "    search_bar = wait.until(EC.presence_of_element_located((By.ID, \"twotabsearchtextbox\")))\n",
    "\n",
    "    # Enter the product name and press Enter\n",
    "    search_bar.send_keys(product_name)\n",
    "    search_bar.send_keys(Keys.RETURN)\n",
    "\n",
    "    # Initialize lists to store the data\n",
    "    brands = []\n",
    "    product_names = []\n",
    "    prices = []\n",
    "    return_exchanges = []\n",
    "    expected_deliveries = []\n",
    "    availabilities = []\n",
    "    product_urls = []\n",
    "\n",
    "    # Function to scrape the details from a single product page\n",
    "    def scrape_page():\n",
    "        time.sleep(2)\n",
    "        products = driver.find_elements(By.CSS_SELECTOR, \".s-result-item.s-asin\")\n",
    "\n",
    "        for product in products:\n",
    "            try:\n",
    "                brand = product.find_element(By.CSS_SELECTOR, \".s-line-clamp-1 span\").text\n",
    "            except:\n",
    "                brand = \"-\"\n",
    "            \n",
    "            try:\n",
    "                product_name = product.find_element(By.CSS_SELECTOR, \"h2 a span\").text\n",
    "            except:\n",
    "                product_name = \"-\"\n",
    "            \n",
    "            try:\n",
    "                price = product.find_element(By.CSS_SELECTOR, \".a-price-whole\").text\n",
    "            except:\n",
    "                price = \"-\"\n",
    "            \n",
    "            try:\n",
    "                return_exchange = product.find_element(By.CSS_SELECTOR, \".a-color-secondary .a-text-bold\").text\n",
    "            except:\n",
    "                return_exchange = \"-\"\n",
    "            \n",
    "            try:\n",
    "                expected_delivery = product.find_element(By.CSS_SELECTOR, \".a-color-base .a-text-bold\").text\n",
    "            except:\n",
    "                expected_delivery = \"-\"\n",
    "            \n",
    "            try:\n",
    "                availability = product.find_element(By.CSS_SELECTOR, \".a-color-success\").text\n",
    "            except:\n",
    "                availability = \"-\"\n",
    "            \n",
    "            try:\n",
    "                product_url = product.find_element(By.CSS_SELECTOR, \"h2 a\").get_attribute(\"href\")\n",
    "            except:\n",
    "                product_url = \"-\"\n",
    "\n",
    "            brands.append(brand)\n",
    "            product_names.append(product_name)\n",
    "            prices.append(price)\n",
    "            return_exchanges.append(return_exchange)\n",
    "            expected_deliveries.append(expected_delivery)\n",
    "            availabilities.append(availability)\n",
    "            product_urls.append(product_url)\n",
    "\n",
    "    # Scrape the first 3 pages of results\n",
    "    for _ in range(3):\n",
    "        scrape_page()\n",
    "        try:\n",
    "            next_button = driver.find_element(By.CSS_SELECTOR, \".s-pagination-next\")\n",
    "            next_button.click()\n",
    "        except:\n",
    "            break\n",
    "\n",
    "    # Close the driver\n",
    "    driver.quit()\n",
    "\n",
    "    # Create a DataFrame\n",
    "    data = {\n",
    "        \"Brand Name\": brands,\n",
    "        \"Name of the Product\": product_names,\n",
    "        \"Price\": prices,\n",
    "        \"Return/Exchange\": return_exchanges,\n",
    "        \"Expected Delivery\": expected_deliveries,\n",
    "        \"Availability\": availabilities,\n",
    "        \"Product URL\": product_urls\n",
    "    }\n",
    "    df = pd.DataFrame(data)\n",
    "\n",
    "    # Save to CSV\n",
    "    df.to_csv(f\"{product_name}_amazon_products.csv\", index=False)\n",
    "    print(f\"Data scraped and saved to {product_name}_amazon_products.csv\")\n",
    "\n",
    "# User input for the product to search\n",
    "product_to_search = input(\"Enter the product name to search on Amazon: \")\n",
    "scrape_amazon(product_to_search)"
   ]
  },
  {
   "cell_type": "markdown",
   "id": "05d7082c",
   "metadata": {},
   "source": [
    "# Q3"
   ]
  },
  {
   "cell_type": "code",
   "execution_count": 23,
   "id": "b44026fe",
   "metadata": {},
   "outputs": [],
   "source": [
    "from selenium import webdriver\n",
    "from selenium.webdriver.common.by import By\n",
    "from selenium.webdriver.common.keys import Keys\n",
    "from selenium.webdriver.support.ui import WebDriverWait\n",
    "from selenium.webdriver.support import expected_conditions as EC\n",
    "import time\n",
    "import requests\n",
    "import os\n",
    "\n",
    "driver = webdriver.Chrome()"
   ]
  },
  {
   "cell_type": "code",
   "execution_count": 24,
   "id": "9abb9afe",
   "metadata": {},
   "outputs": [],
   "source": [
    "driver.get(\"https://images.google.com/\")"
   ]
  },
  {
   "cell_type": "code",
   "execution_count": 25,
   "id": "e4a96c94",
   "metadata": {},
   "outputs": [],
   "source": [
    "wait = WebDriverWait(driver, 10)\n",
    "search_bar = wait.until(EC.presence_of_element_located((By.NAME, \"q\")))"
   ]
  },
  {
   "cell_type": "code",
   "execution_count": 26,
   "id": "72d9caf3",
   "metadata": {},
   "outputs": [],
   "source": [
    "search_bar.send_keys('cars')"
   ]
  },
  {
   "cell_type": "code",
   "execution_count": 30,
   "id": "54906bed",
   "metadata": {},
   "outputs": [],
   "source": [
    "search = driver.find_element(By.CLASS_NAME,\"zgAlFc\")\n",
    "search.click()"
   ]
  },
  {
   "cell_type": "code",
   "execution_count": 31,
   "id": "ad141a35",
   "metadata": {},
   "outputs": [],
   "source": [
    "for _ in range(20):\n",
    "    driver.execute_script(\"window.scrollBy(0,500)\")\n",
    "    \n",
    "img_urls = []\n",
    "images = driver.find_elements(By.XPATH,'/html/body/div[4]/div/div[15]/div/div[2]/div[2]/div/div/div/div/div[1]/div/div/div[2]/div[2]/h3/a/div/div/div')\n",
    "for image in images:\n",
    "    source= image.get_attribute('src')\n",
    "    if source is not None:\n",
    "        if(source[0:4] == 'http'):\n",
    "            img_urls.append(source)"
   ]
  },
  {
   "cell_type": "code",
   "execution_count": 32,
   "id": "5dd658f3",
   "metadata": {},
   "outputs": [],
   "source": [
    "for i in range(len(img_urls)):\n",
    "    if i > 10:\n",
    "        breakBy.XPATH,\n",
    "    print(\"Downloading {0} of {1} images\" .format(i, 10))\n",
    "    response= requests.get(img_urls[i])\n",
    "    file = open(r\"C:\\Users\\rahul.tiwari2019\\Desktop\\FlipRobo\"+str(i)+\".jpg\", \"wb\")\n",
    "    file.write(response.content)"
   ]
  },
  {
   "cell_type": "markdown",
   "id": "79219bd1",
   "metadata": {},
   "source": [
    "# Q4"
   ]
  },
  {
   "cell_type": "code",
   "execution_count": 33,
   "id": "ba8b560c",
   "metadata": {},
   "outputs": [
    {
     "name": "stdout",
     "output_type": "stream",
     "text": [
      "Data scraped and saved to flipkart_smartphones.csv\n"
     ]
    }
   ],
   "source": [
    "# Initialize WebDriver\n",
    "driver = webdriver.Chrome()\n",
    "\n",
    "# Function to scrape smartphone details\n",
    "def scrape_smartphone_details(search_query):\n",
    "    driver.get(\"https://www.flipkart.com/\")\n",
    "    time.sleep(2)\n",
    "\n",
    "    # Close login popup if present\n",
    "    try:\n",
    "        close_login_popup = driver.find_element(By.XPATH, \"//button[contains(text(),'✕')]\")\n",
    "        close_login_popup.click()\n",
    "    except:\n",
    "        pass\n",
    "\n",
    "    # Search for the smartphone\n",
    "    search_bar = driver.find_element(By.NAME, \"q\")\n",
    "    search_bar.send_keys(search_query)\n",
    "    search_bar.send_keys(Keys.RETURN)\n",
    "    time.sleep(3)\n",
    "\n",
    "    # Scrape the required details\n",
    "    smartphones = []\n",
    "    products = driver.find_elements(By.XPATH, \"//div[@class='_1AtVbE']\")\n",
    "    \n",
    "    for product in products:\n",
    "        details = {\n",
    "            'Brand Name': '-',\n",
    "            'Smartphone Name': '-',\n",
    "            'Colour': '-',\n",
    "            'RAM': '-',\n",
    "            'Storage (ROM)': '-',\n",
    "            'Primary Camera': '-',\n",
    "            'Secondary Camera': '-',\n",
    "            'Display Size': '-',\n",
    "            'Battery Capacity': '-',\n",
    "            'Price': '-',\n",
    "            'Product URL': '-'\n",
    "        }\n",
    "\n",
    "        try:\n",
    "            details['Smartphone Name'] = product.find_element(By.XPATH, \".//div[@class='_4rR01T']\").text\n",
    "            details['Brand Name'] = details['Smartphone Name'].split()[0]\n",
    "        except:\n",
    "            pass\n",
    "\n",
    "        try:\n",
    "            details['Product URL'] = \"https://www.flipkart.com\" + product.find_element(By.XPATH, \".//a[@class='_1fQZEK']\").get_attribute('href')\n",
    "        except:\n",
    "            pass\n",
    "\n",
    "        try:\n",
    "            specs = product.find_elements(By.XPATH, \".//ul[@class='_1xgFaf']/li\")\n",
    "            for spec in specs:\n",
    "                spec_text = spec.text\n",
    "                if 'RAM' in spec_text and 'ROM' in spec_text:\n",
    "                    details['RAM'], details['Storage (ROM)'] = spec_text.split('|')\n",
    "                elif 'Display' in spec_text:\n",
    "                    details['Display Size'] = spec_text\n",
    "                elif 'Battery' in spec_text:\n",
    "                    details['Battery Capacity'] = spec_text\n",
    "                elif 'Camera' in spec_text:\n",
    "                    camera_specs = spec_text.split('|')\n",
    "                    details['Primary Camera'] = camera_specs[0]\n",
    "                    if len(camera_specs) > 1:\n",
    "                        details['Secondary Camera'] = camera_specs[1]\n",
    "        except:\n",
    "            pass\n",
    "\n",
    "        try:\n",
    "            details['Price'] = product.find_element(By.XPATH, \".//div[@class='_30jeq3 _1_WHN1']\").text\n",
    "        except:\n",
    "            pass\n",
    "\n",
    "        smartphones.append(details)\n",
    "\n",
    "        if len(smartphones) >= 10:\n",
    "            break\n",
    "\n",
    "    return smartphones\n",
    "\n",
    "# Search for smartphones\n",
    "search_query = \"Oneplus Nord\"\n",
    "smartphones = scrape_smartphone_details(search_query)\n",
    "\n",
    "# Close the WebDriver\n",
    "driver.quit()\n",
    "\n",
    "# Create a DataFrame and save to CSV\n",
    "df = pd.DataFrame(smartphones)\n",
    "df.to_csv('flipkart_smartphones.csv', index=False)\n",
    "\n",
    "print(\"Data scraped and saved to flipkart_smartphones.csv\")\n"
   ]
  },
  {
   "cell_type": "markdown",
   "id": "38511f26",
   "metadata": {},
   "source": [
    "# Q5"
   ]
  },
  {
   "cell_type": "code",
   "execution_count": 34,
   "id": "6b9b5518",
   "metadata": {},
   "outputs": [
    {
     "name": "stdout",
     "output_type": "stream",
     "text": [
      "Error extracting coordinates: not enough values to unpack (expected 2, got 1)\n",
      "Coordinates of New York: Latitude = None, Longitude = None\n"
     ]
    }
   ],
   "source": [
    "# Initialize the WebDriver\n",
    "driver = webdriver.Chrome()\n",
    "\n",
    "def get_coordinates(city_name):\n",
    "    # Open Google Maps\n",
    "    driver.get(\"https://www.google.com/maps\")\n",
    "    time.sleep(3)\n",
    "\n",
    "    # Find the search bar and enter the city name\n",
    "    search_box = driver.find_element(By.ID, \"searchboxinput\")\n",
    "    search_box.send_keys(city_name)\n",
    "    search_box.send_keys(Keys.RETURN)\n",
    "    time.sleep(5)\n",
    "\n",
    "    # Get the current URL\n",
    "    current_url = driver.current_url\n",
    "\n",
    "    # Extract latitude and longitude from the URL\n",
    "    try:\n",
    "        start_index = current_url.find(\"/@\") + 2\n",
    "        end_index = current_url.find(\",\")\n",
    "        lat_long = current_url[start_index:end_index]\n",
    "        latitude, longitude = lat_long.split(\",\")\n",
    "    except Exception as e:\n",
    "        print(f\"Error extracting coordinates: {e}\")\n",
    "        latitude, longitude = None, None\n",
    "\n",
    "    return latitude, longitude\n",
    "\n",
    "# Example usage\n",
    "city = \"New York\"\n",
    "latitude, longitude = get_coordinates(city)\n",
    "print(f\"Coordinates of {city}: Latitude = {latitude}, Longitude = {longitude}\")\n",
    "\n",
    "# Close the WebDriver\n",
    "driver.quit()"
   ]
  },
  {
   "cell_type": "markdown",
   "id": "a5cd0d00",
   "metadata": {},
   "source": [
    "# Q6"
   ]
  },
  {
   "cell_type": "code",
   "execution_count": 35,
   "id": "40b834db",
   "metadata": {},
   "outputs": [
    {
     "name": "stdout",
     "output_type": "stream",
     "text": [
      "Scraping completed and data saved to best_gaming_laptops.csv\n"
     ]
    }
   ],
   "source": [
    "# Initialize the WebDriver\n",
    "driver = webdriver.Chrome()\n",
    "\n",
    "# Open the Digit.in page for best gaming laptops\n",
    "driver.get(\"https://www.digit.in/top-products/best-gaming-laptops-40.html\")\n",
    "time.sleep(5)\n",
    "\n",
    "# Scrape the details of each laptop\n",
    "laptops = []\n",
    "laptop_elements = driver.find_elements(By.CLASS_NAME, 'TopNumbeHeading')\n",
    "\n",
    "for laptop in laptop_elements:\n",
    "    try:\n",
    "        title = laptop.find_element(By.TAG_NAME, 'a').text\n",
    "    except:\n",
    "        title = '-'\n",
    "    try:\n",
    "        details = laptop.find_element(By.CLASS_NAME, 'Specs-Box').text\n",
    "    except:\n",
    "        details = '-'\n",
    "    \n",
    "    laptops.append({\n",
    "        'Title': title,\n",
    "        'Details': details,\n",
    "    })\n",
    "\n",
    "# Close the WebDriver\n",
    "driver.quit()\n",
    "\n",
    "# Create a DataFrame\n",
    "df = pd.DataFrame(laptops)\n",
    "\n",
    "# Export the DataFrame to a CSV file\n",
    "df.to_csv('best_gaming_laptops.csv', index=False)\n",
    "\n",
    "print(\"Scraping completed and data saved to best_gaming_laptops.csv\")"
   ]
  },
  {
   "cell_type": "markdown",
   "id": "9cdc5e3f",
   "metadata": {},
   "source": [
    "# Q7"
   ]
  },
  {
   "cell_type": "code",
   "execution_count": 36,
   "id": "5ea72ebb",
   "metadata": {},
   "outputs": [
    {
     "name": "stdout",
     "output_type": "stream",
     "text": [
      "Scraping completed and data saved to forbes_billionaires.csv\n"
     ]
    }
   ],
   "source": [
    "# Initialize the WebDriver\n",
    "driver = webdriver.Chrome()\n",
    "\n",
    "# Open the Forbes billionaires page\n",
    "driver.get(\"https://www.forbes.com/billionaires/\")\n",
    "time.sleep(10)  # wait for the page to fully load\n",
    "\n",
    "# Scroll to the bottom of the page to load more data if applicable\n",
    "while True:\n",
    "    # Scroll down to the bottom of the page\n",
    "    driver.execute_script(\"window.scrollTo(0, document.body.scrollHeight);\")\n",
    "    time.sleep(5)  # wait for new data to load\n",
    "    \n",
    "    # Check if more data is loaded\n",
    "    try:\n",
    "        driver.find_element(By.XPATH, \"//button[text()='Load More']\").click()\n",
    "        time.sleep(5)\n",
    "    except:\n",
    "        break  # No more data to load\n",
    "\n",
    "# Extract details of each billionaire\n",
    "billionaires = []\n",
    "\n",
    "# Locate the table containing the billionaire data\n",
    "table_rows = driver.find_elements(By.XPATH, \"//div[@class='table-row']\")\n",
    "\n",
    "for row in table_rows:\n",
    "    try:\n",
    "        rank = row.find_element(By.XPATH, \"./div[@class='rank']\").text\n",
    "    except:\n",
    "        rank = '-'\n",
    "    try:\n",
    "        name = row.find_element(By.XPATH, \"./div[@class='personName']\").text\n",
    "    except:\n",
    "        name = '-'\n",
    "    try:\n",
    "        net_worth = row.find_element(By.XPATH, \"./div[@class='netWorth']\").text\n",
    "    except:\n",
    "        net_worth = '-'\n",
    "    try:\n",
    "        age = row.find_element(By.XPATH, \"./div[@class='age']\").text\n",
    "    except:\n",
    "        age = '-'\n",
    "    try:\n",
    "        citizenship = row.find_element(By.XPATH, \"./div[@class='country']\").text\n",
    "    except:\n",
    "        citizenship = '-'\n",
    "    try:\n",
    "        source = row.find_element(By.XPATH, \"./div[@class='source']\").text\n",
    "    except:\n",
    "        source = '-'\n",
    "    try:\n",
    "        industry = row.find_element(By.XPATH, \"./div[@class='category']\").text\n",
    "    except:\n",
    "        industry = '-'\n",
    "    \n",
    "    billionaires.append({\n",
    "        'Rank': rank,\n",
    "        'Name': name,\n",
    "        'Net worth': net_worth,\n",
    "        'Age': age,\n",
    "        'Citizenship': citizenship,\n",
    "        'Source': source,\n",
    "        'Industry': industry\n",
    "    })\n",
    "\n",
    "# Close the WebDriver\n",
    "driver.quit()\n",
    "\n",
    "# Create a DataFrame\n",
    "df = pd.DataFrame(billionaires)\n",
    "\n",
    "# Export the DataFrame to a CSV file\n",
    "df.to_csv('forbes_billionaires.csv', index=False)\n",
    "\n",
    "print(\"Scraping completed and data saved to forbes_billionaires.csv\")"
   ]
  },
  {
   "cell_type": "markdown",
   "id": "b9047b9b",
   "metadata": {},
   "source": [
    "# Q8"
   ]
  },
  {
   "cell_type": "code",
   "execution_count": 39,
   "id": "584ba2c5",
   "metadata": {},
   "outputs": [
    {
     "name": "stdout",
     "output_type": "stream",
     "text": [
      "Scraping completed and data saved to youtube_comments.csv\n"
     ]
    }
   ],
   "source": [
    "# Initialize the WebDriver\n",
    "driver = webdriver.Chrome()\n",
    "\n",
    "# Open the YouTube video page\n",
    "video_url = 'https://www.youtube.com/watch?v=ZF6t-XGdkRQ'\n",
    "driver.get(video_url)\n",
    "time.sleep(5)  # wait for the page to load\n",
    "\n",
    "# Scroll down to load more comments\n",
    "for _ in range(50):  # adjust range to ensure at least 500 comments are loaded\n",
    "    driver.execute_script(\"window.scrollTo(0, document.documentElement.scrollHeight);\")\n",
    "    time.sleep(2)  # wait for comments to load\n",
    "\n",
    "# Extract comment details\n",
    "comments = []\n",
    "upvotes = []\n",
    "user = []\n",
    "\n",
    "comment_elements = driver.find_elements(By.XPATH, '//*[@id=\"content-text\"]')\n",
    "upvote_elements = driver.find_elements(By.XPATH, '//*[@id=\"vote-count-middle\"]')\n",
    "user_elements = driver.find_elements(By.XPATH, '//*[@id=\"header-author\"]')\n",
    "\n",
    "for i in range(min(len(comment_elements), 500)):\n",
    "    comments.append(comment_elements[i].text)\n",
    "    upvotes.append(upvote_elements[i].text if i < len(upvote_elements) else '0')\n",
    "    user.append(time_elements[i].text)\n",
    "\n",
    "# Close the WebDriver\n",
    "driver.quit()\n",
    "\n",
    "# Create a DataFrame\n",
    "data = {\n",
    "    'Comment': comments,\n",
    "    'Upvotes': upvotes,\n",
    "    'User ID': user\n",
    "}\n",
    "df = pd.DataFrame(data)\n",
    "\n",
    "# Export the DataFrame to a CSV file\n",
    "df.to_csv('youtube_comments.csv', index=False)\n",
    "\n",
    "print(\"Scraping completed and data saved to youtube_comments.csv\")"
   ]
  },
  {
   "cell_type": "markdown",
   "id": "ea807728",
   "metadata": {},
   "source": [
    "# Q9"
   ]
  },
  {
   "cell_type": "code",
   "execution_count": null,
   "id": "cff9347d",
   "metadata": {},
   "outputs": [],
   "source": [
    "I have unable to solve this question due to unable to find input serch bar and unable to input location in serach bar."
   ]
  }
 ],
 "metadata": {
  "kernelspec": {
   "display_name": "Python 3 (ipykernel)",
   "language": "python",
   "name": "python3"
  },
  "language_info": {
   "codemirror_mode": {
    "name": "ipython",
    "version": 3
   },
   "file_extension": ".py",
   "mimetype": "text/x-python",
   "name": "python",
   "nbconvert_exporter": "python",
   "pygments_lexer": "ipython3",
   "version": "3.11.5"
  }
 },
 "nbformat": 4,
 "nbformat_minor": 5
}
